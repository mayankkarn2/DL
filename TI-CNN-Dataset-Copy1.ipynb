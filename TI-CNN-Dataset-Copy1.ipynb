{
 "cells": [
  {
   "cell_type": "markdown",
   "metadata": {},
   "source": [
    "# News preprocessing"
   ]
  },
  {
   "cell_type": "markdown",
   "metadata": {},
   "source": [
    "Pre-processed to remove URLS, symbols. That is, things that are not words"
   ]
  },
  {
   "cell_type": "code",
   "execution_count": 4,
   "metadata": {},
   "outputs": [],
   "source": [
    "import pandas as pd\n",
    "import numpy as np\n",
    "\n",
    "from matplotlib import pyplot as plt\n",
    "from matplotlib import style\n",
    "\n",
    "#One-hot encodding\n",
    "from sklearn.preprocessing import LabelBinarizer\n",
    "\n",
    "#Progress bars\n",
    "from tqdm import tqdm\n",
    "tqdm.pandas()\n",
    "\n",
    "#Paralelize pandas apply on multiple cores\n",
    "import swifter\n",
    "\n",
    "#Nicer style\n",
    "style.use('seaborn') "
   ]
  },
  {
   "cell_type": "code",
   "execution_count": 5,
   "metadata": {},
   "outputs": [],
   "source": [
    "import re #regexp"
   ]
  },
  {
   "cell_type": "code",
   "execution_count": 6,
   "metadata": {},
   "outputs": [],
   "source": [
    "from nltk.tokenize import RegexpTokenizer"
   ]
  },
  {
   "cell_type": "markdown",
   "metadata": {},
   "source": [
    "##We load the news dataset"
   ]
  },
  {
   "cell_type": "code",
   "execution_count": 7,
   "metadata": {},
   "outputs": [],
   "source": [
    "news = pd.read_csv(\"..//data//all_data.csv\").drop(\"Unnamed: 0\", axis=1)"
   ]
  },
  {
   "cell_type": "code",
   "execution_count": 8,
   "metadata": {},
   "outputs": [
    {
     "data": {
      "text/html": [
       "<div>\n",
       "<style scoped>\n",
       "    .dataframe tbody tr th:only-of-type {\n",
       "        vertical-align: middle;\n",
       "    }\n",
       "\n",
       "    .dataframe tbody tr th {\n",
       "        vertical-align: top;\n",
       "    }\n",
       "\n",
       "    .dataframe thead th {\n",
       "        text-align: right;\n",
       "    }\n",
       "</style>\n",
       "<table border=\"1\" class=\"dataframe\">\n",
       "  <thead>\n",
       "    <tr style=\"text-align: right;\">\n",
       "      <th></th>\n",
       "      <th>Unnamed: 0.1</th>\n",
       "      <th>author</th>\n",
       "      <th>comments</th>\n",
       "      <th>country</th>\n",
       "      <th>crawled</th>\n",
       "      <th>domain_rank</th>\n",
       "      <th>id</th>\n",
       "      <th>language</th>\n",
       "      <th>likes</th>\n",
       "      <th>main_img_url</th>\n",
       "      <th>...</th>\n",
       "      <th>fear</th>\n",
       "      <th>joy</th>\n",
       "      <th>sadness</th>\n",
       "      <th>surprise</th>\n",
       "      <th>trust</th>\n",
       "      <th>negative</th>\n",
       "      <th>positive</th>\n",
       "      <th>first_all</th>\n",
       "      <th>second_all</th>\n",
       "      <th>third_all</th>\n",
       "    </tr>\n",
       "  </thead>\n",
       "  <tbody>\n",
       "    <tr>\n",
       "      <th>0</th>\n",
       "      <td>NaN</td>\n",
       "      <td>JEREMY W. PETERS</td>\n",
       "      <td>0.0</td>\n",
       "      <td>US</td>\n",
       "      <td>2017-03-14 08:25:04</td>\n",
       "      <td>0</td>\n",
       "      <td>3.0</td>\n",
       "      <td>english</td>\n",
       "      <td>0.0</td>\n",
       "      <td>https://static01.nyt.com/images/2016/11/23/us/...</td>\n",
       "      <td>...</td>\n",
       "      <td>6</td>\n",
       "      <td>20</td>\n",
       "      <td>5</td>\n",
       "      <td>14</td>\n",
       "      <td>30</td>\n",
       "      <td>14</td>\n",
       "      <td>52</td>\n",
       "      <td>409</td>\n",
       "      <td>150</td>\n",
       "      <td>45</td>\n",
       "    </tr>\n",
       "    <tr>\n",
       "      <th>1</th>\n",
       "      <td>NaN</td>\n",
       "      <td>STEVE EDER</td>\n",
       "      <td>0.0</td>\n",
       "      <td>US</td>\n",
       "      <td>2017-03-14 08:25:36</td>\n",
       "      <td>0</td>\n",
       "      <td>4.0</td>\n",
       "      <td>english</td>\n",
       "      <td>0.0</td>\n",
       "      <td>https://static01.nyt.com/images/2016/10/18/us/...</td>\n",
       "      <td>...</td>\n",
       "      <td>4</td>\n",
       "      <td>4</td>\n",
       "      <td>4</td>\n",
       "      <td>5</td>\n",
       "      <td>9</td>\n",
       "      <td>8</td>\n",
       "      <td>15</td>\n",
       "      <td>145</td>\n",
       "      <td>38</td>\n",
       "      <td>28</td>\n",
       "    </tr>\n",
       "    <tr>\n",
       "      <th>2</th>\n",
       "      <td>NaN</td>\n",
       "      <td>MAGGIE HABERMAN ASHLEY PARKER</td>\n",
       "      <td>0.0</td>\n",
       "      <td>US</td>\n",
       "      <td>2017-03-14 08:25:36</td>\n",
       "      <td>0</td>\n",
       "      <td>5.0</td>\n",
       "      <td>english</td>\n",
       "      <td>0.0</td>\n",
       "      <td>https://static01.nyt.com/images/2016/11/12/us/...</td>\n",
       "      <td>...</td>\n",
       "      <td>8</td>\n",
       "      <td>15</td>\n",
       "      <td>8</td>\n",
       "      <td>6</td>\n",
       "      <td>26</td>\n",
       "      <td>15</td>\n",
       "      <td>34</td>\n",
       "      <td>440</td>\n",
       "      <td>168</td>\n",
       "      <td>68</td>\n",
       "    </tr>\n",
       "    <tr>\n",
       "      <th>3</th>\n",
       "      <td>NaN</td>\n",
       "      <td>NELSON D. SCHWARTZ SUI-LEE WEE</td>\n",
       "      <td>0.0</td>\n",
       "      <td>US</td>\n",
       "      <td>2017-03-14 08:25:36</td>\n",
       "      <td>0</td>\n",
       "      <td>6.0</td>\n",
       "      <td>english</td>\n",
       "      <td>0.0</td>\n",
       "      <td>https://static01.nyt.com/images/2016/10/21/bus...</td>\n",
       "      <td>...</td>\n",
       "      <td>10</td>\n",
       "      <td>10</td>\n",
       "      <td>10</td>\n",
       "      <td>6</td>\n",
       "      <td>32</td>\n",
       "      <td>24</td>\n",
       "      <td>43</td>\n",
       "      <td>592</td>\n",
       "      <td>136</td>\n",
       "      <td>71</td>\n",
       "    </tr>\n",
       "    <tr>\n",
       "      <th>4</th>\n",
       "      <td>NaN</td>\n",
       "      <td>MAGGIE HABERMAN</td>\n",
       "      <td>0.0</td>\n",
       "      <td>US</td>\n",
       "      <td>2017-03-14 08:25:37</td>\n",
       "      <td>0</td>\n",
       "      <td>7.0</td>\n",
       "      <td>english</td>\n",
       "      <td>0.0</td>\n",
       "      <td>https://static01.nyt.com/images/2016/11/21/us/...</td>\n",
       "      <td>...</td>\n",
       "      <td>3</td>\n",
       "      <td>6</td>\n",
       "      <td>2</td>\n",
       "      <td>4</td>\n",
       "      <td>14</td>\n",
       "      <td>4</td>\n",
       "      <td>25</td>\n",
       "      <td>223</td>\n",
       "      <td>82</td>\n",
       "      <td>28</td>\n",
       "    </tr>\n",
       "    <tr>\n",
       "      <th>5</th>\n",
       "      <td>NaN</td>\n",
       "      <td>ERIC LIPTON</td>\n",
       "      <td>0.0</td>\n",
       "      <td>US</td>\n",
       "      <td>2017-03-14 08:25:39</td>\n",
       "      <td>0</td>\n",
       "      <td>8.0</td>\n",
       "      <td>english</td>\n",
       "      <td>0.0</td>\n",
       "      <td>https://static01.nyt.com/images/2016/11/19/us/...</td>\n",
       "      <td>...</td>\n",
       "      <td>3</td>\n",
       "      <td>8</td>\n",
       "      <td>3</td>\n",
       "      <td>6</td>\n",
       "      <td>20</td>\n",
       "      <td>12</td>\n",
       "      <td>34</td>\n",
       "      <td>363</td>\n",
       "      <td>91</td>\n",
       "      <td>33</td>\n",
       "    </tr>\n",
       "    <tr>\n",
       "      <th>6</th>\n",
       "      <td>NaN</td>\n",
       "      <td>THE ASSOCIATED PRESS</td>\n",
       "      <td>0.0</td>\n",
       "      <td>US</td>\n",
       "      <td>2017-03-14 08:25:40</td>\n",
       "      <td>0</td>\n",
       "      <td>9.0</td>\n",
       "      <td>english</td>\n",
       "      <td>0.0</td>\n",
       "      <td>https://t4.rbxcdn.com/c5695e5f087535e2066dc473...</td>\n",
       "      <td>...</td>\n",
       "      <td>8</td>\n",
       "      <td>1</td>\n",
       "      <td>5</td>\n",
       "      <td>5</td>\n",
       "      <td>9</td>\n",
       "      <td>12</td>\n",
       "      <td>13</td>\n",
       "      <td>138</td>\n",
       "      <td>32</td>\n",
       "      <td>19</td>\n",
       "    </tr>\n",
       "    <tr>\n",
       "      <th>7</th>\n",
       "      <td>NaN</td>\n",
       "      <td>SARAH MASLIN NIR</td>\n",
       "      <td>0.0</td>\n",
       "      <td>US</td>\n",
       "      <td>2017-03-14 08:25:41</td>\n",
       "      <td>0</td>\n",
       "      <td>10.0</td>\n",
       "      <td>english</td>\n",
       "      <td>0.0</td>\n",
       "      <td>https://static01.nyt.com/images/2016/11/17/nyr...</td>\n",
       "      <td>...</td>\n",
       "      <td>23</td>\n",
       "      <td>17</td>\n",
       "      <td>14</td>\n",
       "      <td>14</td>\n",
       "      <td>37</td>\n",
       "      <td>30</td>\n",
       "      <td>46</td>\n",
       "      <td>541</td>\n",
       "      <td>159</td>\n",
       "      <td>63</td>\n",
       "    </tr>\n",
       "    <tr>\n",
       "      <th>8</th>\n",
       "      <td>NaN</td>\n",
       "      <td>VIVIAN YEE</td>\n",
       "      <td>0.0</td>\n",
       "      <td>US</td>\n",
       "      <td>2017-03-14 08:25:42</td>\n",
       "      <td>0</td>\n",
       "      <td>11.0</td>\n",
       "      <td>english</td>\n",
       "      <td>0.0</td>\n",
       "      <td>https://static01.nyt.com/images/2016/10/30/nyr...</td>\n",
       "      <td>...</td>\n",
       "      <td>9</td>\n",
       "      <td>13</td>\n",
       "      <td>10</td>\n",
       "      <td>8</td>\n",
       "      <td>34</td>\n",
       "      <td>18</td>\n",
       "      <td>60</td>\n",
       "      <td>541</td>\n",
       "      <td>207</td>\n",
       "      <td>63</td>\n",
       "    </tr>\n",
       "    <tr>\n",
       "      <th>9</th>\n",
       "      <td>NaN</td>\n",
       "      <td>MATTHEW GOLDSTEIN</td>\n",
       "      <td>0.0</td>\n",
       "      <td>US</td>\n",
       "      <td>2017-03-14 08:25:43</td>\n",
       "      <td>0</td>\n",
       "      <td>12.0</td>\n",
       "      <td>english</td>\n",
       "      <td>0.0</td>\n",
       "      <td>https://static01.nyt.com/images/2016/11/22/bus...</td>\n",
       "      <td>...</td>\n",
       "      <td>6</td>\n",
       "      <td>10</td>\n",
       "      <td>7</td>\n",
       "      <td>6</td>\n",
       "      <td>21</td>\n",
       "      <td>12</td>\n",
       "      <td>30</td>\n",
       "      <td>242</td>\n",
       "      <td>62</td>\n",
       "      <td>41</td>\n",
       "    </tr>\n",
       "  </tbody>\n",
       "</table>\n",
       "<p>10 rows × 53 columns</p>\n",
       "</div>"
      ],
      "text/plain": [
       "   Unnamed: 0.1                          author  comments country  \\\n",
       "0           NaN                JEREMY W. PETERS       0.0      US   \n",
       "1           NaN                      STEVE EDER       0.0      US   \n",
       "2           NaN   MAGGIE HABERMAN ASHLEY PARKER       0.0      US   \n",
       "3           NaN  NELSON D. SCHWARTZ SUI-LEE WEE       0.0      US   \n",
       "4           NaN                 MAGGIE HABERMAN       0.0      US   \n",
       "5           NaN                     ERIC LIPTON       0.0      US   \n",
       "6           NaN            THE ASSOCIATED PRESS       0.0      US   \n",
       "7           NaN                SARAH MASLIN NIR       0.0      US   \n",
       "8           NaN                      VIVIAN YEE       0.0      US   \n",
       "9           NaN               MATTHEW GOLDSTEIN       0.0      US   \n",
       "\n",
       "               crawled  domain_rank    id language  likes  \\\n",
       "0  2017-03-14 08:25:04            0   3.0  english    0.0   \n",
       "1  2017-03-14 08:25:36            0   4.0  english    0.0   \n",
       "2  2017-03-14 08:25:36            0   5.0  english    0.0   \n",
       "3  2017-03-14 08:25:36            0   6.0  english    0.0   \n",
       "4  2017-03-14 08:25:37            0   7.0  english    0.0   \n",
       "5  2017-03-14 08:25:39            0   8.0  english    0.0   \n",
       "6  2017-03-14 08:25:40            0   9.0  english    0.0   \n",
       "7  2017-03-14 08:25:41            0  10.0  english    0.0   \n",
       "8  2017-03-14 08:25:42            0  11.0  english    0.0   \n",
       "9  2017-03-14 08:25:43            0  12.0  english    0.0   \n",
       "\n",
       "                                        main_img_url  ...  fear  joy sadness  \\\n",
       "0  https://static01.nyt.com/images/2016/11/23/us/...  ...     6   20       5   \n",
       "1  https://static01.nyt.com/images/2016/10/18/us/...  ...     4    4       4   \n",
       "2  https://static01.nyt.com/images/2016/11/12/us/...  ...     8   15       8   \n",
       "3  https://static01.nyt.com/images/2016/10/21/bus...  ...    10   10      10   \n",
       "4  https://static01.nyt.com/images/2016/11/21/us/...  ...     3    6       2   \n",
       "5  https://static01.nyt.com/images/2016/11/19/us/...  ...     3    8       3   \n",
       "6  https://t4.rbxcdn.com/c5695e5f087535e2066dc473...  ...     8    1       5   \n",
       "7  https://static01.nyt.com/images/2016/11/17/nyr...  ...    23   17      14   \n",
       "8  https://static01.nyt.com/images/2016/10/30/nyr...  ...     9   13      10   \n",
       "9  https://static01.nyt.com/images/2016/11/22/bus...  ...     6   10       7   \n",
       "\n",
       "   surprise  trust negative  positive first_all second_all third_all  \n",
       "0        14     30       14        52       409        150        45  \n",
       "1         5      9        8        15       145         38        28  \n",
       "2         6     26       15        34       440        168        68  \n",
       "3         6     32       24        43       592        136        71  \n",
       "4         4     14        4        25       223         82        28  \n",
       "5         6     20       12        34       363         91        33  \n",
       "6         5      9       12        13       138         32        19  \n",
       "7        14     37       30        46       541        159        63  \n",
       "8         8     34       18        60       541        207        63  \n",
       "9         6     21       12        30       242         62        41  \n",
       "\n",
       "[10 rows x 53 columns]"
      ]
     },
     "execution_count": 8,
     "metadata": {},
     "output_type": "execute_result"
    }
   ],
   "source": [
    "news.head(10)"
   ]
  },
  {
   "cell_type": "code",
   "execution_count": 9,
   "metadata": {},
   "outputs": [],
   "source": [
    "news = news.drop(\"Unnamed: 0.1\", axis=1)"
   ]
  },
  {
   "cell_type": "code",
   "execution_count": 10,
   "metadata": {},
   "outputs": [
    {
     "data": {
      "text/html": [
       "<div>\n",
       "<style scoped>\n",
       "    .dataframe tbody tr th:only-of-type {\n",
       "        vertical-align: middle;\n",
       "    }\n",
       "\n",
       "    .dataframe tbody tr th {\n",
       "        vertical-align: top;\n",
       "    }\n",
       "\n",
       "    .dataframe thead th {\n",
       "        text-align: right;\n",
       "    }\n",
       "</style>\n",
       "<table border=\"1\" class=\"dataframe\">\n",
       "  <thead>\n",
       "    <tr style=\"text-align: right;\">\n",
       "      <th></th>\n",
       "      <th>author</th>\n",
       "      <th>comments</th>\n",
       "      <th>country</th>\n",
       "      <th>crawled</th>\n",
       "      <th>domain_rank</th>\n",
       "      <th>id</th>\n",
       "      <th>language</th>\n",
       "      <th>likes</th>\n",
       "      <th>main_img_url</th>\n",
       "      <th>ord_in_thread</th>\n",
       "      <th>...</th>\n",
       "      <th>fear</th>\n",
       "      <th>joy</th>\n",
       "      <th>sadness</th>\n",
       "      <th>surprise</th>\n",
       "      <th>trust</th>\n",
       "      <th>negative</th>\n",
       "      <th>positive</th>\n",
       "      <th>first_all</th>\n",
       "      <th>second_all</th>\n",
       "      <th>third_all</th>\n",
       "    </tr>\n",
       "  </thead>\n",
       "  <tbody>\n",
       "    <tr>\n",
       "      <th>0</th>\n",
       "      <td>JEREMY W. PETERS</td>\n",
       "      <td>0.0</td>\n",
       "      <td>US</td>\n",
       "      <td>2017-03-14 08:25:04</td>\n",
       "      <td>0</td>\n",
       "      <td>3.0</td>\n",
       "      <td>english</td>\n",
       "      <td>0.0</td>\n",
       "      <td>https://static01.nyt.com/images/2016/11/23/us/...</td>\n",
       "      <td>0.0</td>\n",
       "      <td>...</td>\n",
       "      <td>6</td>\n",
       "      <td>20</td>\n",
       "      <td>5</td>\n",
       "      <td>14</td>\n",
       "      <td>30</td>\n",
       "      <td>14</td>\n",
       "      <td>52</td>\n",
       "      <td>409</td>\n",
       "      <td>150</td>\n",
       "      <td>45</td>\n",
       "    </tr>\n",
       "    <tr>\n",
       "      <th>1</th>\n",
       "      <td>STEVE EDER</td>\n",
       "      <td>0.0</td>\n",
       "      <td>US</td>\n",
       "      <td>2017-03-14 08:25:36</td>\n",
       "      <td>0</td>\n",
       "      <td>4.0</td>\n",
       "      <td>english</td>\n",
       "      <td>0.0</td>\n",
       "      <td>https://static01.nyt.com/images/2016/10/18/us/...</td>\n",
       "      <td>0.0</td>\n",
       "      <td>...</td>\n",
       "      <td>4</td>\n",
       "      <td>4</td>\n",
       "      <td>4</td>\n",
       "      <td>5</td>\n",
       "      <td>9</td>\n",
       "      <td>8</td>\n",
       "      <td>15</td>\n",
       "      <td>145</td>\n",
       "      <td>38</td>\n",
       "      <td>28</td>\n",
       "    </tr>\n",
       "    <tr>\n",
       "      <th>2</th>\n",
       "      <td>MAGGIE HABERMAN ASHLEY PARKER</td>\n",
       "      <td>0.0</td>\n",
       "      <td>US</td>\n",
       "      <td>2017-03-14 08:25:36</td>\n",
       "      <td>0</td>\n",
       "      <td>5.0</td>\n",
       "      <td>english</td>\n",
       "      <td>0.0</td>\n",
       "      <td>https://static01.nyt.com/images/2016/11/12/us/...</td>\n",
       "      <td>0.0</td>\n",
       "      <td>...</td>\n",
       "      <td>8</td>\n",
       "      <td>15</td>\n",
       "      <td>8</td>\n",
       "      <td>6</td>\n",
       "      <td>26</td>\n",
       "      <td>15</td>\n",
       "      <td>34</td>\n",
       "      <td>440</td>\n",
       "      <td>168</td>\n",
       "      <td>68</td>\n",
       "    </tr>\n",
       "    <tr>\n",
       "      <th>3</th>\n",
       "      <td>NELSON D. SCHWARTZ SUI-LEE WEE</td>\n",
       "      <td>0.0</td>\n",
       "      <td>US</td>\n",
       "      <td>2017-03-14 08:25:36</td>\n",
       "      <td>0</td>\n",
       "      <td>6.0</td>\n",
       "      <td>english</td>\n",
       "      <td>0.0</td>\n",
       "      <td>https://static01.nyt.com/images/2016/10/21/bus...</td>\n",
       "      <td>0.0</td>\n",
       "      <td>...</td>\n",
       "      <td>10</td>\n",
       "      <td>10</td>\n",
       "      <td>10</td>\n",
       "      <td>6</td>\n",
       "      <td>32</td>\n",
       "      <td>24</td>\n",
       "      <td>43</td>\n",
       "      <td>592</td>\n",
       "      <td>136</td>\n",
       "      <td>71</td>\n",
       "    </tr>\n",
       "    <tr>\n",
       "      <th>4</th>\n",
       "      <td>MAGGIE HABERMAN</td>\n",
       "      <td>0.0</td>\n",
       "      <td>US</td>\n",
       "      <td>2017-03-14 08:25:37</td>\n",
       "      <td>0</td>\n",
       "      <td>7.0</td>\n",
       "      <td>english</td>\n",
       "      <td>0.0</td>\n",
       "      <td>https://static01.nyt.com/images/2016/11/21/us/...</td>\n",
       "      <td>0.0</td>\n",
       "      <td>...</td>\n",
       "      <td>3</td>\n",
       "      <td>6</td>\n",
       "      <td>2</td>\n",
       "      <td>4</td>\n",
       "      <td>14</td>\n",
       "      <td>4</td>\n",
       "      <td>25</td>\n",
       "      <td>223</td>\n",
       "      <td>82</td>\n",
       "      <td>28</td>\n",
       "    </tr>\n",
       "  </tbody>\n",
       "</table>\n",
       "<p>5 rows × 52 columns</p>\n",
       "</div>"
      ],
      "text/plain": [
       "                           author  comments country              crawled  \\\n",
       "0                JEREMY W. PETERS       0.0      US  2017-03-14 08:25:04   \n",
       "1                      STEVE EDER       0.0      US  2017-03-14 08:25:36   \n",
       "2   MAGGIE HABERMAN ASHLEY PARKER       0.0      US  2017-03-14 08:25:36   \n",
       "3  NELSON D. SCHWARTZ SUI-LEE WEE       0.0      US  2017-03-14 08:25:36   \n",
       "4                 MAGGIE HABERMAN       0.0      US  2017-03-14 08:25:37   \n",
       "\n",
       "   domain_rank   id language  likes  \\\n",
       "0            0  3.0  english    0.0   \n",
       "1            0  4.0  english    0.0   \n",
       "2            0  5.0  english    0.0   \n",
       "3            0  6.0  english    0.0   \n",
       "4            0  7.0  english    0.0   \n",
       "\n",
       "                                        main_img_url  ord_in_thread  ...  \\\n",
       "0  https://static01.nyt.com/images/2016/11/23/us/...            0.0  ...   \n",
       "1  https://static01.nyt.com/images/2016/10/18/us/...            0.0  ...   \n",
       "2  https://static01.nyt.com/images/2016/11/12/us/...            0.0  ...   \n",
       "3  https://static01.nyt.com/images/2016/10/21/bus...            0.0  ...   \n",
       "4  https://static01.nyt.com/images/2016/11/21/us/...            0.0  ...   \n",
       "\n",
       "   fear joy  sadness  surprise trust  negative positive first_all second_all  \\\n",
       "0     6  20        5        14    30        14       52       409        150   \n",
       "1     4   4        4         5     9         8       15       145         38   \n",
       "2     8  15        8         6    26        15       34       440        168   \n",
       "3    10  10       10         6    32        24       43       592        136   \n",
       "4     3   6        2         4    14         4       25       223         82   \n",
       "\n",
       "  third_all  \n",
       "0        45  \n",
       "1        28  \n",
       "2        68  \n",
       "3        71  \n",
       "4        28  \n",
       "\n",
       "[5 rows x 52 columns]"
      ]
     },
     "execution_count": 10,
     "metadata": {},
     "output_type": "execute_result"
    }
   ],
   "source": [
    "news.head()"
   ]
  },
  {
   "cell_type": "code",
   "execution_count": 11,
   "metadata": {},
   "outputs": [
    {
     "data": {
      "text/plain": [
       "<matplotlib.axes._subplots.AxesSubplot at 0x27fbe1e2940>"
      ]
     },
     "execution_count": 11,
     "metadata": {},
     "output_type": "execute_result"
    },
    {
     "data": {
      "image/png": "[encoded data removed]",
      "text/plain": [
       "<Figure size 1152x432 with 1 Axes>"
      ]
     },
     "metadata": {},
     "output_type": "display_data"
    }
   ],
   "source": [
    "fig, ax = plt.subplots(1,1, figsize=(16,6))\n",
    "news.groupby(\"type\").count()['text'].plot.bar(title = \"Number of articles by type\", ax = ax)"
   ]
  },
  {
   "cell_type": "markdown",
   "metadata": {},
   "source": [
    "### Dataset cleaning"
   ]
  },
  {
   "cell_type": "code",
   "execution_count": 12,
   "metadata": {},
   "outputs": [],
   "source": [
    "def clean_text(text):\n",
    "    #Remove URLs\n",
    "    text = re.sub(r\"http\\S+\", \"\", text)\n",
    "    #Tokenize\n",
    "    tokenizer = RegexpTokenizer('\\w+|\\$[\\d\\.]+|\\S+')\n",
    "    tokens = tokenizer.tokenize(text)\n",
    "    #Remove non alphanumerica characters\n",
    "    words = [word for word in tokens if word.isalpha()]    \n",
    "    return words"
   ]
  },
  {
   "cell_type": "markdown",
   "metadata": {},
   "source": [
    "We clean the fields we will use: Title and content"
   ]
  },
  {
   "cell_type": "code",
   "execution_count": 13,
   "metadata": {},
   "outputs": [
    {
     "data": {
      "application/vnd.jupyter.widget-view+json": {
       "model_id": "15d4baf0bdff4bf98b65043d2b2c6c65",
       "version_major": 2,
       "version_minor": 0
      },
      "text/plain": [
       "HBox(children=(FloatProgress(value=0.0, description='Pandas Apply', max=20015.0, style=ProgressStyle(descripti…"
      ]
     },
     "metadata": {},
     "output_type": "display_data"
    },
    {
     "name": "stdout",
     "output_type": "stream",
     "text": [
      "\n"
     ]
    },
    {
     "data": {
      "application/vnd.jupyter.widget-view+json": {
       "model_id": "ca247012cffd4ca9ba4daa16b8ccfd24",
       "version_major": 2,
       "version_minor": 0
      },
      "text/plain": [
       "HBox(children=(FloatProgress(value=0.0, description='Pandas Apply', max=20015.0, style=ProgressStyle(descripti…"
      ]
     },
     "metadata": {},
     "output_type": "display_data"
    },
    {
     "name": "stdout",
     "output_type": "stream",
     "text": [
      "\n"
     ]
    }
   ],
   "source": [
    "#Clean content\n",
    "news['text'] = news.swifter.apply(lambda row: clean_text(row['text']), axis=1)\n",
    "#Clean title\n",
    "news['title'] = news.swifter.apply(lambda row: clean_text(row['title']), axis=1)\n",
    "\n",
    "#Select only news with text\n",
    "news = news[news['title'].str.len() >= 1]\n",
    "news = news[news['text'].str.len() >= 1]"
   ]
  },
  {
   "cell_type": "code",
   "execution_count": 14,
   "metadata": {},
   "outputs": [
    {
     "data": {
      "text/html": [
       "<div>\n",
       "<style scoped>\n",
       "    .dataframe tbody tr th:only-of-type {\n",
       "        vertical-align: middle;\n",
       "    }\n",
       "\n",
       "    .dataframe tbody tr th {\n",
       "        vertical-align: top;\n",
       "    }\n",
       "\n",
       "    .dataframe thead th {\n",
       "        text-align: right;\n",
       "    }\n",
       "</style>\n",
       "<table border=\"1\" class=\"dataframe\">\n",
       "  <thead>\n",
       "    <tr style=\"text-align: right;\">\n",
       "      <th></th>\n",
       "      <th>author</th>\n",
       "      <th>comments</th>\n",
       "      <th>country</th>\n",
       "      <th>crawled</th>\n",
       "      <th>domain_rank</th>\n",
       "      <th>id</th>\n",
       "      <th>language</th>\n",
       "      <th>likes</th>\n",
       "      <th>main_img_url</th>\n",
       "      <th>ord_in_thread</th>\n",
       "      <th>...</th>\n",
       "      <th>fear</th>\n",
       "      <th>joy</th>\n",
       "      <th>sadness</th>\n",
       "      <th>surprise</th>\n",
       "      <th>trust</th>\n",
       "      <th>negative</th>\n",
       "      <th>positive</th>\n",
       "      <th>first_all</th>\n",
       "      <th>second_all</th>\n",
       "      <th>third_all</th>\n",
       "    </tr>\n",
       "  </thead>\n",
       "  <tbody>\n",
       "    <tr>\n",
       "      <th>0</th>\n",
       "      <td>JEREMY W. PETERS</td>\n",
       "      <td>0.0</td>\n",
       "      <td>US</td>\n",
       "      <td>2017-03-14 08:25:04</td>\n",
       "      <td>0</td>\n",
       "      <td>3.0</td>\n",
       "      <td>english</td>\n",
       "      <td>0.0</td>\n",
       "      <td>https://static01.nyt.com/images/2016/11/23/us/...</td>\n",
       "      <td>0.0</td>\n",
       "      <td>...</td>\n",
       "      <td>6</td>\n",
       "      <td>20</td>\n",
       "      <td>5</td>\n",
       "      <td>14</td>\n",
       "      <td>30</td>\n",
       "      <td>14</td>\n",
       "      <td>52</td>\n",
       "      <td>409</td>\n",
       "      <td>150</td>\n",
       "      <td>45</td>\n",
       "    </tr>\n",
       "    <tr>\n",
       "      <th>1</th>\n",
       "      <td>STEVE EDER</td>\n",
       "      <td>0.0</td>\n",
       "      <td>US</td>\n",
       "      <td>2017-03-14 08:25:36</td>\n",
       "      <td>0</td>\n",
       "      <td>4.0</td>\n",
       "      <td>english</td>\n",
       "      <td>0.0</td>\n",
       "      <td>https://static01.nyt.com/images/2016/10/18/us/...</td>\n",
       "      <td>0.0</td>\n",
       "      <td>...</td>\n",
       "      <td>4</td>\n",
       "      <td>4</td>\n",
       "      <td>4</td>\n",
       "      <td>5</td>\n",
       "      <td>9</td>\n",
       "      <td>8</td>\n",
       "      <td>15</td>\n",
       "      <td>145</td>\n",
       "      <td>38</td>\n",
       "      <td>28</td>\n",
       "    </tr>\n",
       "    <tr>\n",
       "      <th>2</th>\n",
       "      <td>MAGGIE HABERMAN ASHLEY PARKER</td>\n",
       "      <td>0.0</td>\n",
       "      <td>US</td>\n",
       "      <td>2017-03-14 08:25:36</td>\n",
       "      <td>0</td>\n",
       "      <td>5.0</td>\n",
       "      <td>english</td>\n",
       "      <td>0.0</td>\n",
       "      <td>https://static01.nyt.com/images/2016/11/12/us/...</td>\n",
       "      <td>0.0</td>\n",
       "      <td>...</td>\n",
       "      <td>8</td>\n",
       "      <td>15</td>\n",
       "      <td>8</td>\n",
       "      <td>6</td>\n",
       "      <td>26</td>\n",
       "      <td>15</td>\n",
       "      <td>34</td>\n",
       "      <td>440</td>\n",
       "      <td>168</td>\n",
       "      <td>68</td>\n",
       "    </tr>\n",
       "  </tbody>\n",
       "</table>\n",
       "<p>3 rows × 52 columns</p>\n",
       "</div>"
      ],
      "text/plain": [
       "                          author  comments country              crawled  \\\n",
       "0               JEREMY W. PETERS       0.0      US  2017-03-14 08:25:04   \n",
       "1                     STEVE EDER       0.0      US  2017-03-14 08:25:36   \n",
       "2  MAGGIE HABERMAN ASHLEY PARKER       0.0      US  2017-03-14 08:25:36   \n",
       "\n",
       "   domain_rank   id language  likes  \\\n",
       "0            0  3.0  english    0.0   \n",
       "1            0  4.0  english    0.0   \n",
       "2            0  5.0  english    0.0   \n",
       "\n",
       "                                        main_img_url  ord_in_thread  ...  \\\n",
       "0  https://static01.nyt.com/images/2016/11/23/us/...            0.0  ...   \n",
       "1  https://static01.nyt.com/images/2016/10/18/us/...            0.0  ...   \n",
       "2  https://static01.nyt.com/images/2016/11/12/us/...            0.0  ...   \n",
       "\n",
       "   fear joy  sadness  surprise trust  negative positive first_all second_all  \\\n",
       "0     6  20        5        14    30        14       52       409        150   \n",
       "1     4   4        4         5     9         8       15       145         38   \n",
       "2     8  15        8         6    26        15       34       440        168   \n",
       "\n",
       "  third_all  \n",
       "0        45  \n",
       "1        28  \n",
       "2        68  \n",
       "\n",
       "[3 rows x 52 columns]"
      ]
     },
     "execution_count": 14,
     "metadata": {},
     "output_type": "execute_result"
    }
   ],
   "source": [
    "news.head(3)"
   ]
  },
  {
   "cell_type": "code",
   "execution_count": 15,
   "metadata": {},
   "outputs": [
    {
     "data": {
      "text/plain": [
       "0    [They, stood, in, line, at, Trump, Tower, some...\n",
       "1    [Donald, J, Trump, foundation, informed, Attor...\n",
       "2    [President, Donald, J, Trump, won, the, White,...\n",
       "3    [An, investment, pitch, for, a, new, Texas, ho...\n",
       "4    [President, Donald, J, Trump, wife, Melania, a...\n",
       "5    [WASHINGTON, The, potential, for, conflicts, o...\n",
       "6    [SAN, DIEGO, Donald, J, Trump, lawyers, agreed...\n",
       "7    [All, Karen, Hendrickson, wanted, was, the, la...\n",
       "8    [Of, the, many, rivals, Donald, J, Trump, has,...\n",
       "9    [Donald, J, Trump, charitable, foundation, wil...\n",
       "Name: text, dtype: object"
      ]
     },
     "execution_count": 15,
     "metadata": {},
     "output_type": "execute_result"
    }
   ],
   "source": [
    "news[\"text\"].head(10)"
   ]
  },
  {
   "cell_type": "markdown",
   "metadata": {},
   "source": [
    "### Word2Vec"
   ]
  },
  {
   "cell_type": "code",
   "execution_count": 16,
   "metadata": {},
   "outputs": [],
   "source": [
    "from gensim.models import KeyedVectors"
   ]
  },
  {
   "cell_type": "markdown",
   "metadata": {},
   "source": [
    "We load the vectors of a model trained by Google with the texts of millions of news"
   ]
  },
  {
   "cell_type": "code",
   "execution_count": 17,
   "metadata": {},
   "outputs": [],
   "source": [
    "model = KeyedVectors.load_word2vec_format(\"..//data//GoogleNews-vectors-negative300.bin.gz\", binary=True,\n",
    "                                          limit=60000)"
   ]
  },
  {
   "cell_type": "markdown",
   "metadata": {},
   "source": [
    "An example of predicting words similar to \"Trump\""
   ]
  },
  {
   "cell_type": "code",
   "execution_count": 18,
   "metadata": {},
   "outputs": [
    {
     "data": {
      "text/plain": [
       "[('Donald_Trump', 0.8103920221328735),\n",
       " ('Celebrity_Apprentice', 0.51996910572052),\n",
       " ('Apprentice', 0.47915542125701904),\n",
       " ('Paladino', 0.4655587375164032),\n",
       " ('Snooki', 0.4468839764595032),\n",
       " ('Harrah', 0.44451743364334106),\n",
       " ('MGM_Mirage', 0.4422535300254822),\n",
       " ('Vince_McMahon', 0.44097134470939636),\n",
       " ('Limbaugh', 0.4399239420890808),\n",
       " ('Palin', 0.4383709132671356)]"
      ]
     },
     "execution_count": 18,
     "metadata": {},
     "output_type": "execute_result"
    }
   ],
   "source": [
    "model.most_similar(\"Trump\")"
   ]
  },
  {
   "cell_type": "markdown",
   "metadata": {},
   "source": [
    "Next we convert the words of the title and content of the news to the indexes of the vocabulary of Word2Vec."
   ]
  },
  {
   "cell_type": "code",
   "execution_count": 19,
   "metadata": {},
   "outputs": [
    {
     "data": {
      "application/vnd.jupyter.widget-view+json": {
       "model_id": "33d444e7c4c2446a9a97f440b557f6fb",
       "version_major": 2,
       "version_minor": 0
      },
      "text/plain": [
       "HBox(children=(FloatProgress(value=0.0, description='Pandas Apply', max=19805.0, style=ProgressStyle(descripti…"
      ]
     },
     "metadata": {},
     "output_type": "display_data"
    },
    {
     "name": "stdout",
     "output_type": "stream",
     "text": [
      "\n"
     ]
    }
   ],
   "source": [
    "news['title'] = news.progress_apply(lambda r: \n",
    "                        [model.vocab[x].index for x in r['title'] if x in model.vocab], axis=1)"
   ]
  },
  {
   "cell_type": "code",
   "execution_count": 20,
   "metadata": {},
   "outputs": [
    {
     "data": {
      "application/vnd.jupyter.widget-view+json": {
       "model_id": "1c445fe3ef99434f81b20918b46e9587",
       "version_major": 2,
       "version_minor": 0
      },
      "text/plain": [
       "HBox(children=(FloatProgress(value=0.0, description='Pandas Apply', max=19805.0, style=ProgressStyle(descripti…"
      ]
     },
     "metadata": {},
     "output_type": "display_data"
    },
    {
     "name": "stdout",
     "output_type": "stream",
     "text": [
      "\n"
     ]
    }
   ],
   "source": [
    "news['text'] = news.progress_apply(lambda r: \n",
    "                        [model.vocab[x].index for x in r['text'] if x in model.vocab], axis=1)"
   ]
  },
  {
   "cell_type": "markdown",
   "metadata": {},
   "source": [
    "Remove articles that have no title (Word2Vec did not have the original words)"
   ]
  },
  {
   "cell_type": "code",
   "execution_count": 21,
   "metadata": {},
   "outputs": [],
   "source": [
    "news = news[news['title'].map(len) >= 1]"
   ]
  },
  {
   "cell_type": "code",
   "execution_count": 22,
   "metadata": {},
   "outputs": [],
   "source": [
    "#Reset index\n",
    "news = news.reset_index().drop(\"index\", axis=1)"
   ]
  },
  {
   "cell_type": "markdown",
   "metadata": {},
   "source": [
    "But there is a ** problem **: The network input cannot be variable. To solve this, it is necessary to add padding to all arrays, so that all have a physical length.\n",
    "\n",
    "If they measure less than a certain length $ n $ ($ l <n $) then \"elements\" with zeros will be added until the necessary dimensions are reached. If you measure more, it will be truncated in such a way that $ l = n $"
   ]
  },
  {
   "cell_type": "code",
   "execution_count": 23,
   "metadata": {},
   "outputs": [],
   "source": [
    "def pad_array(array, token_len):\n",
    "    diff_token = token_len - len(array)\n",
    "    if(diff_token < 0):\n",
    "        array = array[:token_len] #Truncate\n",
    "    else:\n",
    "        #Pad\n",
    "        array += [0]*diff_token #Pad\n",
    "        \n",
    "    return array  "
   ]
  },
  {
   "cell_type": "markdown",
   "metadata": {},
   "source": [
    "It is necessary to find a `token_len` that is sufficient to cover, in general, the length of all items."
   ]
  },
  {
   "cell_type": "code",
   "execution_count": 25,
   "metadata": {},
   "outputs": [
    {
     "data": {
      "application/vnd.jupyter.widget-view+json": {
       "model_id": "6b61a1ef761a49cc8c6139a852695def",
       "version_major": 2,
       "version_minor": 0
      },
      "text/plain": [
       "HBox(children=(FloatProgress(value=0.0, description='Pandas Apply', max=19155.0, style=ProgressStyle(descripti…"
      ]
     },
     "metadata": {},
     "output_type": "display_data"
    },
    {
     "name": "stdout",
     "output_type": "stream",
     "text": [
      "\n"
     ]
    },
    {
     "data": {
      "text/plain": [
       "<matplotlib.axes._subplots.AxesSubplot at 0x27f85a15ba8>"
      ]
     },
     "execution_count": 25,
     "metadata": {},
     "output_type": "execute_result"
    },
    {
     "data": {
      "image/png": "[encoded data removed]",
      "text/plain": [
       "<Figure size 1152x432 with 1 Axes>"
      ]
     },
     "metadata": {},
     "output_type": "display_data"
    }
   ],
   "source": [
    "# Token length of each news item\n",
    "tokens_numbers = news.swifter.apply(lambda row: len(row['text']), axis = 1)\n",
    "\n",
    "fig, ax = plt.subplots(1,1, figsize=(16,6))\n",
    "tokens_numbers.plot.hist(title=\"Number of tokens in the article\", bins = 70, ax=ax)"
   ]
  },
  {
   "cell_type": "code",
   "execution_count": 26,
   "metadata": {},
   "outputs": [
    {
     "name": "stdout",
     "output_type": "stream",
     "text": [
      "Average number of tokens per item: 621\n",
      "Standard deviation of tokens per item: 717\n",
      "Medium tokens per item: 471\n"
     ]
    }
   ],
   "source": [
    "print(\"Average number of tokens per item: {}\".format(int(np.mean(tokens_numbers))))\n",
    "print(\"Standard deviation of tokens per item: {}\".format(int(np.std(tokens_numbers))))\n",
    "print(\"Medium tokens per item: {}\".format(int(np.median(tokens_numbers))))"
   ]
  },
  {
   "cell_type": "code",
   "execution_count": 27,
   "metadata": {},
   "outputs": [
    {
     "name": "stdout",
     "output_type": "stream",
     "text": [
      "Selected tokens window: 2056 - Covers 97.44714173844949% of the dataset\n"
     ]
    }
   ],
   "source": [
    "max_tokens = np.mean(tokens_numbers) + 2 * np.std(tokens_numbers)\n",
    "max_tokens = int(max_tokens)\n",
    "\n",
    "percent_tokens = tokens_numbers[tokens_numbers <= max_tokens].count() / tokens_numbers.count()\n",
    "print(\"Selected tokens window: {} - Covers {}% of the dataset\".format(max_tokens, percent_tokens*100))"
   ]
  },
  {
   "cell_type": "code",
   "execution_count": 28,
   "metadata": {},
   "outputs": [],
   "source": [
    "n_tokens = 8045"
   ]
  },
  {
   "cell_type": "code",
   "execution_count": 29,
   "metadata": {
    "scrolled": false
   },
   "outputs": [],
   "source": [
    "news['text'] = news.apply(lambda r: pad_array(r['text'], n_tokens) , axis=1) #n_tokens"
   ]
  },
  {
   "cell_type": "code",
   "execution_count": 30,
   "metadata": {},
   "outputs": [
    {
     "name": "stdout",
     "output_type": "stream",
     "text": [
      "Average number of tokens per title: 8\n",
      "Standard deviation of tokens by title: 3\n",
      "Medium tokens per title: 8\n",
      "Selected tokens window: 15 - Covers 96.48655703471678% of the dataset\n"
     ]
    },
    {
     "data": {
      "image/png": "[encoded data removed]",
      "text/plain": [
       "<Figure size 1152x432 with 1 Axes>"
      ]
     },
     "metadata": {},
     "output_type": "display_data"
    }
   ],
   "source": [
    "# Token length of each news item\n",
    "tokens_numbers = news.apply(lambda row: len(row['title']), axis = 1)\n",
    "\n",
    "fig, ax = plt.subplots(1,1, figsize=(16,6))\n",
    "tokens_numbers.plot.hist(title=\"Number of tokens in the article\", bins = 30, ax=ax)\n",
    "\n",
    "print(\"Average number of tokens per title: {}\".format(int(np.mean(tokens_numbers))))\n",
    "print(\"Standard deviation of tokens by title: {}\".format(int(np.std(tokens_numbers))))\n",
    "print(\"Medium tokens per title: {}\".format(int(np.median(tokens_numbers))))\n",
    "\n",
    "max_tokens = np.mean(tokens_numbers) + 2 * np.std(tokens_numbers)\n",
    "max_tokens = int(max_tokens)\n",
    "\n",
    "n_tokens = 93\n",
    "\n",
    "percent_tokens = tokens_numbers[tokens_numbers <= max_tokens].count() / tokens_numbers.count()\n",
    "print(\"Selected tokens window: {} - Covers {}% of the dataset\".format(max_tokens, percent_tokens*100))"
   ]
  },
  {
   "cell_type": "code",
   "execution_count": 31,
   "metadata": {
    "scrolled": true
   },
   "outputs": [
    {
     "data": {
      "application/vnd.jupyter.widget-view+json": {
       "model_id": "8ff08941be574f3c8ef74e9bb67f990d",
       "version_major": 2,
       "version_minor": 0
      },
      "text/plain": [
       "HBox(children=(FloatProgress(value=0.0, description='Pandas Apply', max=19155.0, style=ProgressStyle(descripti…"
      ]
     },
     "metadata": {},
     "output_type": "display_data"
    },
    {
     "name": "stdout",
     "output_type": "stream",
     "text": [
      "\n"
     ]
    }
   ],
   "source": [
    "news['title'] = news.progress_apply(lambda r: pad_array(r['title'], n_tokens) , axis=1)"
   ]
  },
  {
   "cell_type": "code",
   "execution_count": 44,
   "metadata": {},
   "outputs": [
    {
     "data": {
      "text/plain": [
       "<matplotlib.axes._subplots.AxesSubplot at 0x27f859c2940>"
      ]
     },
     "execution_count": 44,
     "metadata": {},
     "output_type": "execute_result"
    },
    {
     "data": {
      "image/png": "[encoded data removed]",
      "text/plain": [
       "<Figure size 1152x432 with 1 Axes>"
      ]
     },
     "metadata": {},
     "output_type": "display_data"
    }
   ],
   "source": [
    "fig, ax = plt.subplots(1,1, figsize=(16,6))\n",
    "news.groupby(\"type\").count()['text'].plot.bar(title = \"Number of articles by type\", ax = ax)"
   ]
  },
  {
   "cell_type": "code",
   "execution_count": 32,
   "metadata": {},
   "outputs": [],
   "source": [
    "#We save the processed dataset as .pickle (serialized python objects).\n",
    "news.to_pickle('../data/news_proc_12_3_19.pickle')"
   ]
  },
  {
   "cell_type": "code",
   "execution_count": 33,
   "metadata": {},
   "outputs": [],
   "source": [
    "#We save the processed dataset as .csv.\n",
    "news.to_csv('../data/news_proc_8_3_19.csv', sep=';')"
   ]
  },
  {
   "cell_type": "code",
   "execution_count": 49,
   "metadata": {},
   "outputs": [],
   "source": [
    "from ast import literal_eval"
   ]
  },
  {
   "cell_type": "code",
   "execution_count": 50,
   "metadata": {},
   "outputs": [
    {
     "data": {
      "text/plain": [
       "array(['real', 'fake'], dtype=object)"
      ]
     },
     "execution_count": 50,
     "metadata": {},
     "output_type": "execute_result"
    }
   ],
   "source": [
    "news1 = pd.read_csv('../data/news_proc_8_3_19.csv', \n",
    "                       sep=';', converters={'content':literal_eval, \n",
    "                                       'title':literal_eval})\n",
    "news1 = news1[['type', 'text', 'title']]\n",
    "news1['type'].unique()"
   ]
  },
  {
   "cell_type": "code",
   "execution_count": 47,
   "metadata": {},
   "outputs": [
    {
     "data": {
      "text/plain": [
       "<matplotlib.axes._subplots.AxesSubplot at 0x27f88e17978>"
      ]
     },
     "execution_count": 47,
     "metadata": {},
     "output_type": "execute_result"
    },
    {
     "data": {
      "image/png": "[encoded data removed]",
      "text/plain": [
       "<Figure size 1152x432 with 1 Axes>"
      ]
     },
     "metadata": {},
     "output_type": "display_data"
    }
   ],
   "source": [
    "fig, ax = plt.subplots(1,1, figsize=(16,6))\n",
    "news1.groupby(\"type\").count()['text'].plot.bar(title = \"Number of articles by type\", ax = ax)"
   ]
  }
 ],
 "metadata": {
  "kernelspec": {
   "display_name": "Python 3",
   "language": "python",
   "name": "python3"
  },
  "language_info": {
   "codemirror_mode": {
    "name": "ipython",
    "version": 3
   },
   "file_extension": ".py",
   "mimetype": "text/x-python",
   "name": "python",
   "nbconvert_exporter": "python",
   "pygments_lexer": "ipython3",
   "version": "3.7.0"
  }
 },
 "nbformat": 4,
 "nbformat_minor": 2
}
